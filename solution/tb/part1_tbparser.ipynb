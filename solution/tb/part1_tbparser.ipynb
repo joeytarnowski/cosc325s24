{
  "nbformat": 4,
  "nbformat_minor": 0,
  "metadata": {
    "colab": {
      "provenance": [],
      "include_colab_link": true
    },
    "kernelspec": {
      "name": "python3",
      "display_name": "Python 3"
    },
    "language_info": {
      "name": "python"
    }
  },
  "cells": [
    {
      "cell_type": "markdown",
      "metadata": {
        "id": "view-in-github",
        "colab_type": "text"
      },
      "source": [
        "<a href=\"https://colab.research.google.com/github/joeytarnowski/cosc325s24/blob/main/solution/tb/part1_tbparser.ipynb\" target=\"_parent\"><img src=\"https://colab.research.google.com/assets/colab-badge.svg\" alt=\"Open In Colab\"/></a>"
      ]
    },
    {
      "cell_type": "code",
      "execution_count": null,
      "metadata": {
        "id": "Qee4bp84VyzB",
        "colab": {
          "base_uri": "https://localhost:8080/"
        },
        "outputId": "906ba6af-5eae-47e1-e9e5-9db51a8bad6d"
      },
      "outputs": [
        {
          "output_type": "stream",
          "name": "stdout",
          "text": [
            "Requirement already satisfied: ply in /usr/local/lib/python3.10/dist-packages (3.11)\n"
          ]
        }
      ],
      "source": [
        "!pip install ply"
      ]
    },
    {
      "cell_type": "code",
      "source": [
        "!git clone https://github.com/kartoone/cosc325s24/examplecode/tb tb"
      ],
      "metadata": {
        "id": "ZaXKqoKVkT_B",
        "outputId": "0557cc32-2edf-44d8-8ff4-e247c13f97c2",
        "colab": {
          "base_uri": "https://localhost:8080/"
        }
      },
      "execution_count": 15,
      "outputs": [
        {
          "output_type": "stream",
          "name": "stdout",
          "text": [
            "fatal: destination path 'tb' already exists and is not an empty directory.\n"
          ]
        }
      ]
    },
    {
      "cell_type": "code",
      "source": [
        "#%cd drive/MyDrive/tb\n",
        "import tb.lexicalanalysis\n",
        "from tb.lexicalanalysis import build_the_lexer\n",
        "\n",
        "lexer = build_the_lexer()\n",
        "\n",
        "valid_lines_of_code = 0\n",
        "\n",
        "def tokerror(tok):\n",
        "  print(f\"Unexpected token found: {tok.type}\")\n",
        "\n",
        "def program(tok):\n",
        "  actual_statement(tok)\n",
        "  tok = lexer.token()\n",
        "  while tok != None:\n",
        "    actual_statement(tok)\n",
        "    tok = lexer.token()\n",
        "\n",
        "def actual_statement(tok):\n",
        "  if tok.type != \"NUMBER\":\n",
        "    tokerror(tok)\n",
        "  tok = lexer.token()\n",
        "  if tok.type != \"NEWLINE\":\n",
        "    tokerror(tok)\n",
        ""
      ],
      "metadata": {
        "id": "QMfwOoZdhneU",
        "outputId": "8ded30f9-9a35-4f4e-eaaf-230b158c8842",
        "colab": {
          "base_uri": "https://localhost:8080/",
          "height": 393
        }
      },
      "execution_count": 11,
      "outputs": [
        {
          "output_type": "error",
          "ename": "ModuleNotFoundError",
          "evalue": "No module named 'tb.lexicalanalysis'",
          "traceback": [
            "\u001b[0;31m---------------------------------------------------------------------------\u001b[0m",
            "\u001b[0;31mModuleNotFoundError\u001b[0m                       Traceback (most recent call last)",
            "\u001b[0;32m<ipython-input-11-cc2e44d1ded5>\u001b[0m in \u001b[0;36m<cell line: 2>\u001b[0;34m()\u001b[0m\n\u001b[1;32m      1\u001b[0m \u001b[0;31m#%cd drive/MyDrive/tb\u001b[0m\u001b[0;34m\u001b[0m\u001b[0;34m\u001b[0m\u001b[0m\n\u001b[0;32m----> 2\u001b[0;31m \u001b[0;32mimport\u001b[0m \u001b[0mtb\u001b[0m\u001b[0;34m.\u001b[0m\u001b[0mlexicalanalysis\u001b[0m\u001b[0;34m\u001b[0m\u001b[0;34m\u001b[0m\u001b[0m\n\u001b[0m\u001b[1;32m      3\u001b[0m \u001b[0;32mfrom\u001b[0m \u001b[0mtb\u001b[0m\u001b[0;34m.\u001b[0m\u001b[0mlexicalanalysis\u001b[0m \u001b[0;32mimport\u001b[0m \u001b[0mbuild_the_lexer\u001b[0m\u001b[0;34m\u001b[0m\u001b[0;34m\u001b[0m\u001b[0m\n\u001b[1;32m      4\u001b[0m \u001b[0;34m\u001b[0m\u001b[0m\n\u001b[1;32m      5\u001b[0m \u001b[0mlexer\u001b[0m \u001b[0;34m=\u001b[0m \u001b[0mbuild_the_lexer\u001b[0m\u001b[0;34m(\u001b[0m\u001b[0;34m)\u001b[0m\u001b[0;34m\u001b[0m\u001b[0;34m\u001b[0m\u001b[0m\n",
            "\u001b[0;31mModuleNotFoundError\u001b[0m: No module named 'tb.lexicalanalysis'",
            "",
            "\u001b[0;31m---------------------------------------------------------------------------\u001b[0;32m\nNOTE: If your import is failing due to a missing package, you can\nmanually install dependencies using either !pip or !apt.\n\nTo view examples of installing some common dependencies, click the\n\"Open Examples\" button below.\n\u001b[0;31m---------------------------------------------------------------------------\u001b[0m\n"
          ],
          "errorDetails": {
            "actions": [
              {
                "action": "open_url",
                "actionText": "Open Examples",
                "url": "/notebooks/snippets/importing_libraries.ipynb"
              }
            ]
          }
        }
      ]
    }
  ]
}